{
 "cells": [
  {
   "cell_type": "markdown",
   "id": "4b61628d",
   "metadata": {},
   "source": [
    "<a id='top'></a>\n",
    "## Data Visualization: Discovering Trends and Patterns in an Online Retail Sales\n",
    "### By: P. A. Ogbodum\n",
    "\n",
    "<b> Contents Outline </b><br>\n",
    "- <a href = '#introduction'> Introduction </a>\n",
    "- <a href = '#data wrangling'> Data Wrangling </a>\n",
    "- <a href = '#eda'> Exploratory Data Analysis </a>\n",
    "- <a href = '#conclusion'> Conclusion </a>\n"
   ]
  },
  {
   "cell_type": "markdown",
   "id": "019681d0",
   "metadata": {},
   "source": [
    "<a id='introduction'></a>\n",
    "\n",
    "# Introduction\n",
    "\n",
    "**Data Set:** Online Retails Sale Dataset\n",
    "\n",
    "**Source:** [kaggle](https://www.kaggle.com/datasets/rohitmahulkar/online-retails-sale-dataset)\n",
    "\n",
    "**Description:** This data set was collected by an intern at Forage and contains information about online retail sales made by the Tata Group multinational conglomerate headquartered in Mumbai, India. It has 10 columns and 541,909 records for sales between 2010 and 2011.\n",
    "\n",
    "**Variables:** There are 10 variables contained in this data set as listed below: </br>\n",
    "- **InvoiceNo**: Unique ID to identify sale\n",
    "- **InvoiceDate**: The date the invoice was made \n",
    "- **InvoiceTime**: The time the invoice was made\n",
    "- **StockCode**: Code number for the item of purchase\n",
    "- **Description**: Description about the type of the product\n",
    "- **Quantity**: Quantity of the items purchased\n",
    "- **UnitPrice**: Price of a single unit of the item\n",
    "- **Totalsale**: Sum total of item purchased\n",
    "- **CustomerID**: Unique number of identification for each customer\n",
    "- **Country**: Country where the purchase was made\n",
    "\n",
    "**Credit:** *ROHIT MAHULKAR*\n",
    "\n",
    "**Analysis Question:** Best performing product in terms of sales between 2010-2011 and its characteristics.\n",
    "\n",
    "**<a href='#top'>Go to first cell</a>**\n"
   ]
  },
  {
   "cell_type": "code",
   "execution_count": 1,
   "id": "85353ce7",
   "metadata": {},
   "outputs": [],
   "source": [
    "# import needed modules\n",
    "import pandas as pd\n",
    "import numpy as np\n",
    "import seaborn as sb\n",
    "import matplotlib.pyplot as plt\n",
    "import mitosheet\n",
    "import re\n",
    "\n",
    "%matplotlib inline"
   ]
  },
  {
   "cell_type": "markdown",
   "id": "1947002c",
   "metadata": {},
   "source": [
    "<a id='data wrangling'></a>\n",
    "**<a href='#top'>Go to first cell</a>**\n",
    "    \n",
    "# Data Wrangling"
   ]
  },
  {
   "cell_type": "markdown",
   "id": "b72a9923",
   "metadata": {},
   "source": [
    "> ## Data Gathering"
   ]
  },
  {
   "cell_type": "code",
   "execution_count": 2,
   "id": "28100035",
   "metadata": {},
   "outputs": [
    {
     "data": {
      "text/html": [
       "<div><div id=56c12857-55ed-42a0-95aa-d42f8d47a7dc style=\"display:none; background-color:#9D6CFF; color:white; width:200px; height:30px; padding-left:5px; border-radius:4px; flex-direction:row; justify-content:space-around; align-items:center;\" onmouseover=\"this.style.backgroundColor='#BA9BF8'\" onmouseout=\"this.style.backgroundColor='#9D6CFF'\" onclick=\"window.commands?.execute('create-mitosheet-from-dataframe-output');\">See Full Dataframe in Mito</div> <script> if (window.commands?.hasCommand('create-mitosheet-from-dataframe-output')) document.getElementById('56c12857-55ed-42a0-95aa-d42f8d47a7dc').style.display = 'flex' </script> <table border=\"1\" class=\"dataframe\">\n",
       "  <thead>\n",
       "    <tr style=\"text-align: right;\">\n",
       "      <th></th>\n",
       "      <th>InvoiceNo</th>\n",
       "      <th>InvoiceDate</th>\n",
       "      <th>InvoiceTime</th>\n",
       "      <th>StockCode</th>\n",
       "      <th>Description</th>\n",
       "      <th>Quantity</th>\n",
       "      <th>UnitPrice</th>\n",
       "      <th>Totalsale</th>\n",
       "      <th>CustomerID</th>\n",
       "      <th>Country</th>\n",
       "    </tr>\n",
       "  </thead>\n",
       "  <tbody>\n",
       "    <tr>\n",
       "      <th>313376</th>\n",
       "      <td>C564488</td>\n",
       "      <td>25-08-2011</td>\n",
       "      <td>02:12:00 PM</td>\n",
       "      <td>23144</td>\n",
       "      <td>ZINC T-LIGHT HOLDER STARS SMALL</td>\n",
       "      <td>-9</td>\n",
       "      <td>0.83</td>\n",
       "      <td>-7.47</td>\n",
       "      <td>16859.0</td>\n",
       "      <td>United Kingdom</td>\n",
       "    </tr>\n",
       "    <tr>\n",
       "      <th>1581</th>\n",
       "      <td>536544</td>\n",
       "      <td>01-12-2010</td>\n",
       "      <td>02:32:00 PM</td>\n",
       "      <td>22451</td>\n",
       "      <td>SILK PURSE BABUSHKA RED</td>\n",
       "      <td>2</td>\n",
       "      <td>6.77</td>\n",
       "      <td>13.54</td>\n",
       "      <td>NaN</td>\n",
       "      <td>United Kingdom</td>\n",
       "    </tr>\n",
       "    <tr>\n",
       "      <th>343542</th>\n",
       "      <td>566952</td>\n",
       "      <td>15-09-2011</td>\n",
       "      <td>04:37:00 PM</td>\n",
       "      <td>22423</td>\n",
       "      <td>REGENCY CAKESTAND 3 TIER</td>\n",
       "      <td>1</td>\n",
       "      <td>24.96</td>\n",
       "      <td>24.96</td>\n",
       "      <td>NaN</td>\n",
       "      <td>United Kingdom</td>\n",
       "    </tr>\n",
       "    <tr>\n",
       "      <th>325964</th>\n",
       "      <td>565465</td>\n",
       "      <td>05-09-2011</td>\n",
       "      <td>09:46:00 AM</td>\n",
       "      <td>23129</td>\n",
       "      <td>HEART SHAPED HOLLY WREATH</td>\n",
       "      <td>4</td>\n",
       "      <td>4.15</td>\n",
       "      <td>16.60</td>\n",
       "      <td>15364.0</td>\n",
       "      <td>United Kingdom</td>\n",
       "    </tr>\n",
       "    <tr>\n",
       "      <th>252336</th>\n",
       "      <td>559109</td>\n",
       "      <td>06-07-2011</td>\n",
       "      <td>11:52:00 AM</td>\n",
       "      <td>23226</td>\n",
       "      <td>FILIGREE HEART DAISY WHITE</td>\n",
       "      <td>2</td>\n",
       "      <td>1.25</td>\n",
       "      <td>2.50</td>\n",
       "      <td>15021.0</td>\n",
       "      <td>United Kingdom</td>\n",
       "    </tr>\n",
       "  </tbody>\n",
       "</table></div>"
      ],
      "text/plain": [
       "       InvoiceNo InvoiceDate  InvoiceTime StockCode  \\\n",
       "313376   C564488  25-08-2011  02:12:00 PM     23144   \n",
       "1581      536544  01-12-2010  02:32:00 PM     22451   \n",
       "343542    566952  15-09-2011  04:37:00 PM     22423   \n",
       "325964    565465  05-09-2011  09:46:00 AM     23129   \n",
       "252336    559109  06-07-2011  11:52:00 AM     23226   \n",
       "\n",
       "                            Description  Quantity  UnitPrice  Totalsale  \\\n",
       "313376  ZINC T-LIGHT HOLDER STARS SMALL        -9       0.83      -7.47   \n",
       "1581            SILK PURSE BABUSHKA RED         2       6.77      13.54   \n",
       "343542         REGENCY CAKESTAND 3 TIER         1      24.96      24.96   \n",
       "325964        HEART SHAPED HOLLY WREATH         4       4.15      16.60   \n",
       "252336       FILIGREE HEART DAISY WHITE         2       1.25       2.50   \n",
       "\n",
       "        CustomerID         Country  \n",
       "313376     16859.0  United Kingdom  \n",
       "1581           NaN  United Kingdom  \n",
       "343542         NaN  United Kingdom  \n",
       "325964     15364.0  United Kingdom  \n",
       "252336     15021.0  United Kingdom  "
      ]
     },
     "execution_count": 2,
     "metadata": {},
     "output_type": "execute_result"
    }
   ],
   "source": [
    "# read flat file into jupyter\n",
    "df = pd.read_csv('Online Retail.csv')\n",
    "\n",
    "# check if operation was successful\n",
    "df.sample(n=5)"
   ]
  },
  {
   "cell_type": "markdown",
   "id": "a4ecf40e",
   "metadata": {},
   "source": [
    "> ## Data Assessment\n",
    ">> ### Visual Assessment"
   ]
  },
  {
   "cell_type": "code",
   "execution_count": 3,
   "id": "13dad38f",
   "metadata": {},
   "outputs": [
    {
     "data": {
      "application/vnd.jupyter.widget-view+json": {
       "model_id": "",
       "version_major": 2,
       "version_minor": 0
      },
      "text/plain": [
       "MitoWidget(analysis_data_json='{\"analysisName\": \"id-bxqxtcksjq\", \"analysisToReplay\": {\"analysisName\": \"id-ywye…"
      ]
     },
     "metadata": {},
     "output_type": "display_data"
    }
   ],
   "source": [
    "# use mitosheet to perform visual assessment\n",
    "mitosheet.sheet(analysis_to_replay=\"id-ywyefybwwh\")"
   ]
  },
  {
   "cell_type": "code",
   "execution_count": 4,
   "id": "8ede14ff",
   "metadata": {},
   "outputs": [],
   "source": [
    "from mitosheet import *; register_analysis(\"id-ywyefybwwh\");\n",
    "    \n",
    "# Imported Online Retail.csv\n",
    "import pandas as pd\n",
    "Online_Retail = pd.read_csv(r'Online Retail.csv')\n",
    "\n",
    "# Reordered column Quantity\n",
    "Online_Retail_columns = [col for col in Online_Retail.columns if col != 'Quantity']\n",
    "Online_Retail_columns.insert(6, 'Quantity')\n",
    "Online_Retail = Online_Retail[Online_Retail_columns]\n",
    "\n",
    "# Reordered column Description\n",
    "Online_Retail_columns = [col for col in Online_Retail.columns if col != 'Description']\n",
    "Online_Retail_columns.insert(3, 'Description')\n",
    "Online_Retail = Online_Retail[Online_Retail_columns]\n"
   ]
  },
  {
   "cell_type": "code",
   "execution_count": 5,
   "id": "7cee3737",
   "metadata": {},
   "outputs": [],
   "source": [
    "from mitosheet import *; register_analysis(\"id-azmjrmwwda\");\n",
    "    \n",
    "# Imported Online Retail.csv\n",
    "import pandas as pd\n",
    "Online_Retail = pd.read_csv(r'Online Retail.csv')\n",
    "\n",
    "# Pivoted into Online_Retail\n",
    "Online_Retail_pivot = pd.DataFrame(data={})\n",
    "\n",
    "# Deleted Online_Retail_pivot\n",
    "del Online_Retail_pivot\n"
   ]
  },
  {
   "cell_type": "markdown",
   "id": "f446b081",
   "metadata": {},
   "source": [
    "<b>Notes :</b>\n",
    "- Unideal data type for InvoiceDate and InvoiceTime columns.\n",
    "- Inconsistent formatting for InvoiceDate records.\n",
    "- Irrational values (-tve) values for Quantity and TotalSale columns.\n",
    "- Discrepancies in InvoiceNo values (some alphaNumeric), seem to denote Quantity and TotalSale rows with negative values."
   ]
  },
  {
   "cell_type": "markdown",
   "id": "ed76e6de",
   "metadata": {},
   "source": [
    ">> ### Programmatic Assessment"
   ]
  },
  {
   "cell_type": "code",
   "execution_count": 6,
   "id": "666db784",
   "metadata": {},
   "outputs": [
    {
     "name": "stdout",
     "output_type": "stream",
     "text": [
      "<class 'pandas.core.frame.DataFrame'>\n",
      "RangeIndex: 541909 entries, 0 to 541908\n",
      "Data columns (total 10 columns):\n",
      " #   Column       Non-Null Count   Dtype  \n",
      "---  ------       --------------   -----  \n",
      " 0   InvoiceNo    541909 non-null  object \n",
      " 1   InvoiceDate  541909 non-null  object \n",
      " 2   InvoiceTime  541909 non-null  object \n",
      " 3   StockCode    541909 non-null  object \n",
      " 4   Description  540455 non-null  object \n",
      " 5   Quantity     541909 non-null  int64  \n",
      " 6   UnitPrice    541909 non-null  float64\n",
      " 7   Totalsale    541909 non-null  float64\n",
      " 8   CustomerID   406829 non-null  float64\n",
      " 9   Country      541909 non-null  object \n",
      "dtypes: float64(3), int64(1), object(6)\n",
      "memory usage: 41.3+ MB\n"
     ]
    }
   ],
   "source": [
    "# dataframe overview\n",
    "df.info()"
   ]
  },
  {
   "cell_type": "markdown",
   "id": "13203a54",
   "metadata": {},
   "source": [
    "<b>Notes:</b>\n",
    "- Missing values in Description and CustomerID columns.\n",
    "- CustomerID should be string/object data type not float64."
   ]
  },
  {
   "cell_type": "code",
   "execution_count": 7,
   "id": "8ab0805f",
   "metadata": {},
   "outputs": [
    {
     "data": {
      "text/plain": [
       "True"
      ]
     },
     "execution_count": 7,
     "metadata": {},
     "output_type": "execute_result"
    }
   ],
   "source": [
    "# check for duplicates\n",
    "df.duplicated().any()"
   ]
  },
  {
   "cell_type": "code",
   "execution_count": 8,
   "id": "2d0d04ea",
   "metadata": {},
   "outputs": [
    {
     "data": {
      "text/plain": [
       "5268"
      ]
     },
     "execution_count": 8,
     "metadata": {},
     "output_type": "execute_result"
    }
   ],
   "source": [
    "# get sum of all duplicates\n",
    "df.duplicated().sum()"
   ]
  },
  {
   "cell_type": "code",
   "execution_count": 9,
   "id": "364211e2",
   "metadata": {},
   "outputs": [
    {
     "name": "stdout",
     "output_type": "stream",
     "text": [
      "<class 'pandas.core.frame.DataFrame'>\n",
      "Int64Index: 5268 entries, 517 to 541701\n",
      "Data columns (total 10 columns):\n",
      " #   Column       Non-Null Count  Dtype  \n",
      "---  ------       --------------  -----  \n",
      " 0   InvoiceNo    5268 non-null   object \n",
      " 1   InvoiceDate  5268 non-null   object \n",
      " 2   InvoiceTime  5268 non-null   object \n",
      " 3   StockCode    5268 non-null   object \n",
      " 4   Description  5268 non-null   object \n",
      " 5   Quantity     5268 non-null   int64  \n",
      " 6   UnitPrice    5268 non-null   float64\n",
      " 7   Totalsale    5268 non-null   float64\n",
      " 8   CustomerID   5225 non-null   float64\n",
      " 9   Country      5268 non-null   object \n",
      "dtypes: float64(3), int64(1), object(6)\n",
      "memory usage: 452.7+ KB\n"
     ]
    }
   ],
   "source": [
    "# confirm number of duplicated rows \n",
    "df_dup = df[df.duplicated(keep='first')]\n",
    "df_dup.info()"
   ]
  },
  {
   "cell_type": "markdown",
   "id": "59182b50",
   "metadata": {},
   "source": [
    "<b>Notes:</b>\n",
    "- There exist 5268 duplicated records in the dataframe"
   ]
  },
  {
   "cell_type": "code",
   "execution_count": 10,
   "id": "5d3dcfa2",
   "metadata": {},
   "outputs": [
    {
     "data": {
      "text/html": [
       "<div><div id=7f2abaf2-812c-44ef-a2f5-dd5493b08b30 style=\"display:none; background-color:#9D6CFF; color:white; width:200px; height:30px; padding-left:5px; border-radius:4px; flex-direction:row; justify-content:space-around; align-items:center;\" onmouseover=\"this.style.backgroundColor='#BA9BF8'\" onmouseout=\"this.style.backgroundColor='#9D6CFF'\" onclick=\"window.commands?.execute('create-mitosheet-from-dataframe-output');\">See Full Dataframe in Mito</div> <script> if (window.commands?.hasCommand('create-mitosheet-from-dataframe-output')) document.getElementById('7f2abaf2-812c-44ef-a2f5-dd5493b08b30').style.display = 'flex' </script> <table border=\"1\" class=\"dataframe\">\n",
       "  <thead>\n",
       "    <tr style=\"text-align: right;\">\n",
       "      <th></th>\n",
       "      <th>Quantity</th>\n",
       "      <th>UnitPrice</th>\n",
       "      <th>Totalsale</th>\n",
       "      <th>CustomerID</th>\n",
       "    </tr>\n",
       "  </thead>\n",
       "  <tbody>\n",
       "    <tr>\n",
       "      <th>count</th>\n",
       "      <td>541909.000000</td>\n",
       "      <td>541909.000000</td>\n",
       "      <td>541909.000000</td>\n",
       "      <td>406829.000000</td>\n",
       "    </tr>\n",
       "    <tr>\n",
       "      <th>mean</th>\n",
       "      <td>9.552250</td>\n",
       "      <td>4.611114</td>\n",
       "      <td>17.987795</td>\n",
       "      <td>15287.690570</td>\n",
       "    </tr>\n",
       "    <tr>\n",
       "      <th>std</th>\n",
       "      <td>218.081158</td>\n",
       "      <td>96.759853</td>\n",
       "      <td>378.810824</td>\n",
       "      <td>1713.600303</td>\n",
       "    </tr>\n",
       "    <tr>\n",
       "      <th>min</th>\n",
       "      <td>-80995.000000</td>\n",
       "      <td>-11062.060000</td>\n",
       "      <td>-168469.600000</td>\n",
       "      <td>12346.000000</td>\n",
       "    </tr>\n",
       "    <tr>\n",
       "      <th>25%</th>\n",
       "      <td>1.000000</td>\n",
       "      <td>1.250000</td>\n",
       "      <td>3.400000</td>\n",
       "      <td>13953.000000</td>\n",
       "    </tr>\n",
       "    <tr>\n",
       "      <th>50%</th>\n",
       "      <td>3.000000</td>\n",
       "      <td>2.080000</td>\n",
       "      <td>9.750000</td>\n",
       "      <td>15152.000000</td>\n",
       "    </tr>\n",
       "    <tr>\n",
       "      <th>75%</th>\n",
       "      <td>10.000000</td>\n",
       "      <td>4.130000</td>\n",
       "      <td>17.400000</td>\n",
       "      <td>16791.000000</td>\n",
       "    </tr>\n",
       "    <tr>\n",
       "      <th>max</th>\n",
       "      <td>80995.000000</td>\n",
       "      <td>38970.000000</td>\n",
       "      <td>168469.600000</td>\n",
       "      <td>18287.000000</td>\n",
       "    </tr>\n",
       "  </tbody>\n",
       "</table></div>"
      ],
      "text/plain": [
       "            Quantity      UnitPrice      Totalsale     CustomerID\n",
       "count  541909.000000  541909.000000  541909.000000  406829.000000\n",
       "mean        9.552250       4.611114      17.987795   15287.690570\n",
       "std       218.081158      96.759853     378.810824    1713.600303\n",
       "min    -80995.000000  -11062.060000 -168469.600000   12346.000000\n",
       "25%         1.000000       1.250000       3.400000   13953.000000\n",
       "50%         3.000000       2.080000       9.750000   15152.000000\n",
       "75%        10.000000       4.130000      17.400000   16791.000000\n",
       "max     80995.000000   38970.000000  168469.600000   18287.000000"
      ]
     },
     "execution_count": 10,
     "metadata": {},
     "output_type": "execute_result"
    }
   ],
   "source": [
    "# Summary statistics\n",
    "df.describe()"
   ]
  },
  {
   "cell_type": "markdown",
   "id": "f108755e",
   "metadata": {},
   "source": [
    "<b>Notes:</b>\n",
    "- Quantity and Totalsale columns have their minimum value as the negative of their maximum value."
   ]
  },
  {
   "cell_type": "code",
   "execution_count": 12,
   "id": "89191e79",
   "metadata": {},
   "outputs": [
    {
     "data": {
      "text/html": [
       "<div><div id=71886150-3c05-458d-9ae2-312d7edd9e5f style=\"display:none; background-color:#9D6CFF; color:white; width:200px; height:30px; padding-left:5px; border-radius:4px; flex-direction:row; justify-content:space-around; align-items:center;\" onmouseover=\"this.style.backgroundColor='#BA9BF8'\" onmouseout=\"this.style.backgroundColor='#9D6CFF'\" onclick=\"window.commands?.execute('create-mitosheet-from-dataframe-output');\">See Full Dataframe in Mito</div> <script> if (window.commands?.hasCommand('create-mitosheet-from-dataframe-output')) document.getElementById('71886150-3c05-458d-9ae2-312d7edd9e5f').style.display = 'flex' </script> <table border=\"1\" class=\"dataframe\">\n",
       "  <thead>\n",
       "    <tr style=\"text-align: right;\">\n",
       "      <th></th>\n",
       "      <th>InvoiceNo</th>\n",
       "      <th>InvoiceDate</th>\n",
       "      <th>InvoiceTime</th>\n",
       "      <th>StockCode</th>\n",
       "      <th>Description</th>\n",
       "      <th>Quantity</th>\n",
       "      <th>UnitPrice</th>\n",
       "      <th>Totalsale</th>\n",
       "      <th>CustomerID</th>\n",
       "      <th>Country</th>\n",
       "    </tr>\n",
       "  </thead>\n",
       "  <tbody>\n",
       "    <tr>\n",
       "      <th>540421</th>\n",
       "      <td>581483</td>\n",
       "      <td>09-12-2011</td>\n",
       "      <td>09:15:00 AM</td>\n",
       "      <td>23843</td>\n",
       "      <td>PAPER CRAFT , LITTLE BIRDIE</td>\n",
       "      <td>80995</td>\n",
       "      <td>2.08</td>\n",
       "      <td>168469.6</td>\n",
       "      <td>16446.0</td>\n",
       "      <td>United Kingdom</td>\n",
       "    </tr>\n",
       "    <tr>\n",
       "      <th>540422</th>\n",
       "      <td>C581484</td>\n",
       "      <td>09-12-2011</td>\n",
       "      <td>09:27:00 AM</td>\n",
       "      <td>23843</td>\n",
       "      <td>PAPER CRAFT , LITTLE BIRDIE</td>\n",
       "      <td>-80995</td>\n",
       "      <td>2.08</td>\n",
       "      <td>-168469.6</td>\n",
       "      <td>16446.0</td>\n",
       "      <td>United Kingdom</td>\n",
       "    </tr>\n",
       "  </tbody>\n",
       "</table></div>"
      ],
      "text/plain": [
       "       InvoiceNo InvoiceDate  InvoiceTime StockCode  \\\n",
       "540421    581483  09-12-2011  09:15:00 AM     23843   \n",
       "540422   C581484  09-12-2011  09:27:00 AM     23843   \n",
       "\n",
       "                        Description  Quantity  UnitPrice  Totalsale  \\\n",
       "540421  PAPER CRAFT , LITTLE BIRDIE     80995       2.08   168469.6   \n",
       "540422  PAPER CRAFT , LITTLE BIRDIE    -80995       2.08  -168469.6   \n",
       "\n",
       "        CustomerID         Country  \n",
       "540421     16446.0  United Kingdom  \n",
       "540422     16446.0  United Kingdom  "
      ]
     },
     "execution_count": 12,
     "metadata": {},
     "output_type": "execute_result"
    }
   ],
   "source": [
    "# See and compare Quantity and Totalsale columns with minimum and maximum to see why they are inversely related  \n",
    "check_df = df[(df.Quantity == 80995) | (df.Quantity == -80995)]\n",
    "check_df"
   ]
  },
  {
   "cell_type": "code",
   "execution_count": 43,
   "id": "d1d6e550",
   "metadata": {},
   "outputs": [
    {
     "data": {
      "text/html": [
       "<div><div id=ab24915b-608b-450a-8e93-31331661b65d style=\"display:none; background-color:#9D6CFF; color:white; width:200px; height:30px; padding-left:5px; border-radius:4px; flex-direction:row; justify-content:space-around; align-items:center;\" onmouseover=\"this.style.backgroundColor='#BA9BF8'\" onmouseout=\"this.style.backgroundColor='#9D6CFF'\" onclick=\"window.commands?.execute('create-mitosheet-from-dataframe-output');\">See Full Dataframe in Mito</div> <script> if (window.commands?.hasCommand('create-mitosheet-from-dataframe-output')) document.getElementById('ab24915b-608b-450a-8e93-31331661b65d').style.display = 'flex' </script> <table border=\"1\" class=\"dataframe\">\n",
       "  <thead>\n",
       "    <tr style=\"text-align: right;\">\n",
       "      <th></th>\n",
       "      <th>InvoiceNo</th>\n",
       "      <th>InvoiceDate</th>\n",
       "      <th>InvoiceTime</th>\n",
       "      <th>StockCode</th>\n",
       "      <th>Description</th>\n",
       "      <th>Quantity</th>\n",
       "      <th>UnitPrice</th>\n",
       "      <th>Totalsale</th>\n",
       "      <th>CustomerID</th>\n",
       "      <th>Country</th>\n",
       "    </tr>\n",
       "  </thead>\n",
       "  <tbody>\n",
       "    <tr>\n",
       "      <th>82038</th>\n",
       "      <td>C543185</td>\n",
       "      <td>04-02-2011</td>\n",
       "      <td>11:22:00 AM</td>\n",
       "      <td>22333</td>\n",
       "      <td>RETROSPOT PARTY BAG + STICKER SET</td>\n",
       "      <td>-14</td>\n",
       "      <td>1.65</td>\n",
       "      <td>-23.10</td>\n",
       "      <td>NaN</td>\n",
       "      <td>United Kingdom</td>\n",
       "    </tr>\n",
       "    <tr>\n",
       "      <th>246858</th>\n",
       "      <td>C558736</td>\n",
       "      <td>01-07-2011</td>\n",
       "      <td>03:14:00 PM</td>\n",
       "      <td>23146</td>\n",
       "      <td>TRIPLE HOOK ANTIQUE IVORY ROSE</td>\n",
       "      <td>-2</td>\n",
       "      <td>3.29</td>\n",
       "      <td>-6.58</td>\n",
       "      <td>18075.0</td>\n",
       "      <td>United Kingdom</td>\n",
       "    </tr>\n",
       "    <tr>\n",
       "      <th>147060</th>\n",
       "      <td>C549050</td>\n",
       "      <td>06-04-2011</td>\n",
       "      <td>10:17:00 AM</td>\n",
       "      <td>21314</td>\n",
       "      <td>SMALL GLASS HEART TRINKET POT</td>\n",
       "      <td>-3</td>\n",
       "      <td>2.10</td>\n",
       "      <td>-6.30</td>\n",
       "      <td>13767.0</td>\n",
       "      <td>United Kingdom</td>\n",
       "    </tr>\n",
       "    <tr>\n",
       "      <th>337735</th>\n",
       "      <td>C566459</td>\n",
       "      <td>12-09-2011</td>\n",
       "      <td>05:17:00 PM</td>\n",
       "      <td>21535</td>\n",
       "      <td>RED RETROSPOT SMALL MILK JUG</td>\n",
       "      <td>-2</td>\n",
       "      <td>2.55</td>\n",
       "      <td>-5.10</td>\n",
       "      <td>13236.0</td>\n",
       "      <td>United Kingdom</td>\n",
       "    </tr>\n",
       "    <tr>\n",
       "      <th>363775</th>\n",
       "      <td>C568581</td>\n",
       "      <td>28-09-2011</td>\n",
       "      <td>09:59:00 AM</td>\n",
       "      <td>22778</td>\n",
       "      <td>GLASS CLOCHE SMALL</td>\n",
       "      <td>-1</td>\n",
       "      <td>3.95</td>\n",
       "      <td>-3.95</td>\n",
       "      <td>15804.0</td>\n",
       "      <td>United Kingdom</td>\n",
       "    </tr>\n",
       "    <tr>\n",
       "      <th>329645</th>\n",
       "      <td>C565848</td>\n",
       "      <td>07-09-2011</td>\n",
       "      <td>12:48:00 PM</td>\n",
       "      <td>22385</td>\n",
       "      <td>JUMBO BAG SPACEBOY DESIGN</td>\n",
       "      <td>-1</td>\n",
       "      <td>2.08</td>\n",
       "      <td>-2.08</td>\n",
       "      <td>14606.0</td>\n",
       "      <td>United Kingdom</td>\n",
       "    </tr>\n",
       "    <tr>\n",
       "      <th>234537</th>\n",
       "      <td>C557566</td>\n",
       "      <td>21-06-2011</td>\n",
       "      <td>10:39:00 AM</td>\n",
       "      <td>22103</td>\n",
       "      <td>MIRROR MOSAIC T-LIGHT HOLDER ROUND</td>\n",
       "      <td>-2</td>\n",
       "      <td>1.65</td>\n",
       "      <td>-3.30</td>\n",
       "      <td>15998.0</td>\n",
       "      <td>United Kingdom</td>\n",
       "    </tr>\n",
       "    <tr>\n",
       "      <th>326956</th>\n",
       "      <td>C565615</td>\n",
       "      <td>05-09-2011</td>\n",
       "      <td>03:20:00 PM</td>\n",
       "      <td>21197</td>\n",
       "      <td>MULTICOLOUR  CONFETTI IN TUBE</td>\n",
       "      <td>-21</td>\n",
       "      <td>1.65</td>\n",
       "      <td>-34.65</td>\n",
       "      <td>12683.0</td>\n",
       "      <td>France</td>\n",
       "    </tr>\n",
       "    <tr>\n",
       "      <th>537497</th>\n",
       "      <td>C581305</td>\n",
       "      <td>08-12-2011</td>\n",
       "      <td>11:42:00 AM</td>\n",
       "      <td>82484</td>\n",
       "      <td>WOOD BLACK BOARD ANT WHITE FINISH</td>\n",
       "      <td>-1</td>\n",
       "      <td>7.95</td>\n",
       "      <td>-7.95</td>\n",
       "      <td>16933.0</td>\n",
       "      <td>United Kingdom</td>\n",
       "    </tr>\n",
       "    <tr>\n",
       "      <th>133265</th>\n",
       "      <td>C547763</td>\n",
       "      <td>25-03-2011</td>\n",
       "      <td>11:31:00 AM</td>\n",
       "      <td>85150</td>\n",
       "      <td>LADIES &amp; GENTLEMEN METAL SIGN</td>\n",
       "      <td>-1</td>\n",
       "      <td>2.55</td>\n",
       "      <td>-2.55</td>\n",
       "      <td>14194.0</td>\n",
       "      <td>United Kingdom</td>\n",
       "    </tr>\n",
       "  </tbody>\n",
       "</table></div>"
      ],
      "text/plain": [
       "       InvoiceNo InvoiceDate  InvoiceTime StockCode  \\\n",
       "82038    C543185  04-02-2011  11:22:00 AM     22333   \n",
       "246858   C558736  01-07-2011  03:14:00 PM     23146   \n",
       "147060   C549050  06-04-2011  10:17:00 AM     21314   \n",
       "337735   C566459  12-09-2011  05:17:00 PM     21535   \n",
       "363775   C568581  28-09-2011  09:59:00 AM     22778   \n",
       "329645   C565848  07-09-2011  12:48:00 PM     22385   \n",
       "234537   C557566  21-06-2011  10:39:00 AM     22103   \n",
       "326956   C565615  05-09-2011  03:20:00 PM     21197   \n",
       "537497   C581305  08-12-2011  11:42:00 AM     82484   \n",
       "133265   C547763  25-03-2011  11:31:00 AM     85150   \n",
       "\n",
       "                               Description  Quantity  UnitPrice  Totalsale  \\\n",
       "82038    RETROSPOT PARTY BAG + STICKER SET       -14       1.65     -23.10   \n",
       "246858      TRIPLE HOOK ANTIQUE IVORY ROSE        -2       3.29      -6.58   \n",
       "147060       SMALL GLASS HEART TRINKET POT        -3       2.10      -6.30   \n",
       "337735        RED RETROSPOT SMALL MILK JUG        -2       2.55      -5.10   \n",
       "363775                  GLASS CLOCHE SMALL        -1       3.95      -3.95   \n",
       "329645           JUMBO BAG SPACEBOY DESIGN        -1       2.08      -2.08   \n",
       "234537  MIRROR MOSAIC T-LIGHT HOLDER ROUND        -2       1.65      -3.30   \n",
       "326956       MULTICOLOUR  CONFETTI IN TUBE       -21       1.65     -34.65   \n",
       "537497   WOOD BLACK BOARD ANT WHITE FINISH        -1       7.95      -7.95   \n",
       "133265       LADIES & GENTLEMEN METAL SIGN        -1       2.55      -2.55   \n",
       "\n",
       "        CustomerID         Country  \n",
       "82038          NaN  United Kingdom  \n",
       "246858     18075.0  United Kingdom  \n",
       "147060     13767.0  United Kingdom  \n",
       "337735     13236.0  United Kingdom  \n",
       "363775     15804.0  United Kingdom  \n",
       "329645     14606.0  United Kingdom  \n",
       "234537     15998.0  United Kingdom  \n",
       "326956     12683.0          France  \n",
       "537497     16933.0  United Kingdom  \n",
       "133265     14194.0  United Kingdom  "
      ]
     },
     "execution_count": 43,
     "metadata": {},
     "output_type": "execute_result"
    }
   ],
   "source": [
    "# check to see attributes associated with InvoiceNo values have 'C'\n",
    "c_values = df[df.InvoiceNo.str.contains('C')]\n",
    "\n",
    "# check to see if all InvoiceNo 'C' values have negative Quantity entries\n",
    "c_values.sample(n=10)"
   ]
  },
  {
   "cell_type": "code",
   "execution_count": 44,
   "id": "05edf62b",
   "metadata": {},
   "outputs": [
    {
     "data": {
      "text/plain": [
       "9288"
      ]
     },
     "execution_count": 44,
     "metadata": {},
     "output_type": "execute_result"
    }
   ],
   "source": [
    "# see number of rows in this sub-dataframe\n",
    "len(c_values.InvoiceNo)"
   ]
  },
  {
   "cell_type": "markdown",
   "id": "18949c19",
   "metadata": {},
   "source": [
    "<b>Rationale:</b> The number of rows from *c_values* (9288) compared with *df_dup* (5268) shows that not all the values in *c_values* are duplicated."
   ]
  },
  {
   "cell_type": "code",
   "execution_count": 54,
   "id": "89300451",
   "metadata": {},
   "outputs": [
    {
     "data": {
      "text/html": [
       "<div><div id=8479d6a3-7491-4362-8d2d-639ca60ff95b style=\"display:none; background-color:#9D6CFF; color:white; width:200px; height:30px; padding-left:5px; border-radius:4px; flex-direction:row; justify-content:space-around; align-items:center;\" onmouseover=\"this.style.backgroundColor='#BA9BF8'\" onmouseout=\"this.style.backgroundColor='#9D6CFF'\" onclick=\"window.commands?.execute('create-mitosheet-from-dataframe-output');\">See Full Dataframe in Mito</div> <script> if (window.commands?.hasCommand('create-mitosheet-from-dataframe-output')) document.getElementById('8479d6a3-7491-4362-8d2d-639ca60ff95b').style.display = 'flex' </script> <table border=\"1\" class=\"dataframe\">\n",
       "  <thead>\n",
       "    <tr style=\"text-align: right;\">\n",
       "      <th></th>\n",
       "      <th>InvoiceNo</th>\n",
       "      <th>InvoiceDate</th>\n",
       "      <th>InvoiceTime</th>\n",
       "      <th>StockCode</th>\n",
       "      <th>Description</th>\n",
       "      <th>Quantity</th>\n",
       "      <th>UnitPrice</th>\n",
       "      <th>Totalsale</th>\n",
       "      <th>CustomerID</th>\n",
       "      <th>Country</th>\n",
       "    </tr>\n",
       "  </thead>\n",
       "  <tbody>\n",
       "    <tr>\n",
       "      <th>24169</th>\n",
       "      <td>C538341</td>\n",
       "      <td>10-12-2010</td>\n",
       "      <td>02:03:00 PM</td>\n",
       "      <td>22730</td>\n",
       "      <td>ALARM CLOCK BAKELIKE IVORY</td>\n",
       "      <td>-1</td>\n",
       "      <td>3.75</td>\n",
       "      <td>-3.75</td>\n",
       "      <td>15514.0</td>\n",
       "      <td>United Kingdom</td>\n",
       "    </tr>\n",
       "    <tr>\n",
       "      <th>86890</th>\n",
       "      <td>C543611</td>\n",
       "      <td>10-02-2011</td>\n",
       "      <td>02:38:00 PM</td>\n",
       "      <td>82483</td>\n",
       "      <td>WOOD 2 DRAWER CABINET WHITE FINISH</td>\n",
       "      <td>-1</td>\n",
       "      <td>4.95</td>\n",
       "      <td>-4.95</td>\n",
       "      <td>17850.0</td>\n",
       "      <td>United Kingdom</td>\n",
       "    </tr>\n",
       "    <tr>\n",
       "      <th>96695</th>\n",
       "      <td>C544580</td>\n",
       "      <td>21-02-2011</td>\n",
       "      <td>02:25:00 PM</td>\n",
       "      <td>S</td>\n",
       "      <td>SAMPLES</td>\n",
       "      <td>-1</td>\n",
       "      <td>9.74</td>\n",
       "      <td>-9.74</td>\n",
       "      <td>NaN</td>\n",
       "      <td>United Kingdom</td>\n",
       "    </tr>\n",
       "    <tr>\n",
       "      <th>293157</th>\n",
       "      <td>C562582</td>\n",
       "      <td>07-08-2011</td>\n",
       "      <td>01:53:00 PM</td>\n",
       "      <td>21452</td>\n",
       "      <td>TOADSTOOL MONEY BOX</td>\n",
       "      <td>-1</td>\n",
       "      <td>2.95</td>\n",
       "      <td>-2.95</td>\n",
       "      <td>15640.0</td>\n",
       "      <td>United Kingdom</td>\n",
       "    </tr>\n",
       "    <tr>\n",
       "      <th>24177</th>\n",
       "      <td>C538341</td>\n",
       "      <td>10-12-2010</td>\n",
       "      <td>02:03:00 PM</td>\n",
       "      <td>22727</td>\n",
       "      <td>ALARM CLOCK BAKELIKE RED</td>\n",
       "      <td>-1</td>\n",
       "      <td>3.75</td>\n",
       "      <td>-3.75</td>\n",
       "      <td>15514.0</td>\n",
       "      <td>United Kingdom</td>\n",
       "    </tr>\n",
       "    <tr>\n",
       "      <th>215598</th>\n",
       "      <td>C555723</td>\n",
       "      <td>06-06-2011</td>\n",
       "      <td>04:21:00 PM</td>\n",
       "      <td>22171</td>\n",
       "      <td>3 HOOK PHOTO SHELF ANTIQUE WHITE</td>\n",
       "      <td>-2</td>\n",
       "      <td>8.50</td>\n",
       "      <td>-17.00</td>\n",
       "      <td>15737.0</td>\n",
       "      <td>United Kingdom</td>\n",
       "    </tr>\n",
       "    <tr>\n",
       "      <th>461408</th>\n",
       "      <td>C575940</td>\n",
       "      <td>13-11-2011</td>\n",
       "      <td>11:38:00 AM</td>\n",
       "      <td>23309</td>\n",
       "      <td>SET OF 60 I LOVE LONDON CAKE CASES</td>\n",
       "      <td>-24</td>\n",
       "      <td>0.55</td>\n",
       "      <td>-13.20</td>\n",
       "      <td>17838.0</td>\n",
       "      <td>United Kingdom</td>\n",
       "    </tr>\n",
       "    <tr>\n",
       "      <th>24183</th>\n",
       "      <td>C538341</td>\n",
       "      <td>10-12-2010</td>\n",
       "      <td>02:03:00 PM</td>\n",
       "      <td>22725</td>\n",
       "      <td>ALARM CLOCK BAKELIKE CHOCOLATE</td>\n",
       "      <td>-1</td>\n",
       "      <td>3.75</td>\n",
       "      <td>-3.75</td>\n",
       "      <td>15514.0</td>\n",
       "      <td>United Kingdom</td>\n",
       "    </tr>\n",
       "  </tbody>\n",
       "</table></div>"
      ],
      "text/plain": [
       "       InvoiceNo InvoiceDate  InvoiceTime StockCode  \\\n",
       "24169    C538341  10-12-2010  02:03:00 PM     22730   \n",
       "86890    C543611  10-02-2011  02:38:00 PM     82483   \n",
       "96695    C544580  21-02-2011  02:25:00 PM         S   \n",
       "293157   C562582  07-08-2011  01:53:00 PM     21452   \n",
       "24177    C538341  10-12-2010  02:03:00 PM     22727   \n",
       "215598   C555723  06-06-2011  04:21:00 PM     22171   \n",
       "461408   C575940  13-11-2011  11:38:00 AM     23309   \n",
       "24183    C538341  10-12-2010  02:03:00 PM     22725   \n",
       "\n",
       "                                Description  Quantity  UnitPrice  Totalsale  \\\n",
       "24169            ALARM CLOCK BAKELIKE IVORY        -1       3.75      -3.75   \n",
       "86890    WOOD 2 DRAWER CABINET WHITE FINISH        -1       4.95      -4.95   \n",
       "96695                               SAMPLES        -1       9.74      -9.74   \n",
       "293157                  TOADSTOOL MONEY BOX        -1       2.95      -2.95   \n",
       "24177             ALARM CLOCK BAKELIKE RED         -1       3.75      -3.75   \n",
       "215598     3 HOOK PHOTO SHELF ANTIQUE WHITE        -2       8.50     -17.00   \n",
       "461408  SET OF 60 I LOVE LONDON CAKE CASES        -24       0.55     -13.20   \n",
       "24183        ALARM CLOCK BAKELIKE CHOCOLATE        -1       3.75      -3.75   \n",
       "\n",
       "        CustomerID         Country  \n",
       "24169      15514.0  United Kingdom  \n",
       "86890      17850.0  United Kingdom  \n",
       "96695          NaN  United Kingdom  \n",
       "293157     15640.0  United Kingdom  \n",
       "24177      15514.0  United Kingdom  \n",
       "215598     15737.0  United Kingdom  \n",
       "461408     17838.0  United Kingdom  \n",
       "24183      15514.0  United Kingdom  "
      ]
     },
     "execution_count": 54,
     "metadata": {},
     "output_type": "execute_result"
    }
   ],
   "source": [
    "# sub-df to filter InvoiceNo where it contains values having \"C\" character and duplicated rows for the dataframe\n",
    "c_and_dup = df[(df.InvoiceNo.str.contains('C')) & (df.duplicated())]\n",
    "\n",
    "# get sample of dataframe above\n",
    "c_and_dup.sample(n=8)"
   ]
  },
  {
   "cell_type": "code",
   "execution_count": 55,
   "id": "c0972f4e",
   "metadata": {},
   "outputs": [
    {
     "data": {
      "text/plain": [
       "37"
      ]
     },
     "execution_count": 55,
     "metadata": {},
     "output_type": "execute_result"
    }
   ],
   "source": [
    "# get length of dataframe\n",
    "len(c_and_dup)"
   ]
  },
  {
   "cell_type": "markdown",
   "id": "1e52e57f",
   "metadata": {},
   "source": [
    "<i>since I can't get the meaning of <b>C</b> in the <b>InvoiceNo</b> column, I will mask it out for this analysis.</i>"
   ]
  },
  {
   "cell_type": "code",
   "execution_count": 58,
   "id": "1a92df81",
   "metadata": {},
   "outputs": [
    {
     "data": {
      "text/plain": [
       "InvoiceNo      False\n",
       "InvoiceDate    False\n",
       "InvoiceTime    False\n",
       "StockCode      False\n",
       "Description     True\n",
       "Quantity       False\n",
       "UnitPrice      False\n",
       "Totalsale      False\n",
       "CustomerID      True\n",
       "Country        False\n",
       "dtype: bool"
      ]
     },
     "execution_count": 58,
     "metadata": {},
     "output_type": "execute_result"
    }
   ],
   "source": [
    "df.isna().any()"
   ]
  },
  {
   "cell_type": "code",
   "execution_count": null,
   "id": "1f422b2c",
   "metadata": {},
   "outputs": [],
   "source": []
  },
  {
   "cell_type": "code",
   "execution_count": null,
   "id": "3c0a9409",
   "metadata": {},
   "outputs": [],
   "source": []
  },
  {
   "cell_type": "markdown",
   "id": "e284100f",
   "metadata": {},
   "source": [
    "> ## Data Cleaning"
   ]
  },
  {
   "cell_type": "code",
   "execution_count": null,
   "id": "f9baa3d3",
   "metadata": {},
   "outputs": [],
   "source": []
  },
  {
   "cell_type": "markdown",
   "id": "5b2cedc4",
   "metadata": {},
   "source": [
    "<a id='eda'></a>\n",
    "**<a href='#top'>Go to first cell</a>**\n",
    "    \n",
    "# Exploratory Data Analysis"
   ]
  },
  {
   "cell_type": "code",
   "execution_count": null,
   "id": "23ce5dba",
   "metadata": {},
   "outputs": [],
   "source": []
  },
  {
   "cell_type": "code",
   "execution_count": null,
   "id": "26162c01",
   "metadata": {},
   "outputs": [],
   "source": []
  },
  {
   "cell_type": "markdown",
   "id": "65628055",
   "metadata": {},
   "source": [
    "<a id='conclusion'></a>\n",
    "**<a href='#top'>Go to first cell</a>**\n",
    "    \n",
    "# Conclusion"
   ]
  },
  {
   "cell_type": "code",
   "execution_count": null,
   "id": "c3b95324",
   "metadata": {},
   "outputs": [],
   "source": []
  },
  {
   "cell_type": "code",
   "execution_count": null,
   "id": "f07029d2",
   "metadata": {},
   "outputs": [],
   "source": []
  },
  {
   "cell_type": "code",
   "execution_count": null,
   "id": "018ab8da",
   "metadata": {},
   "outputs": [],
   "source": []
  },
  {
   "cell_type": "code",
   "execution_count": null,
   "id": "4f8fe64b",
   "metadata": {},
   "outputs": [],
   "source": []
  },
  {
   "cell_type": "code",
   "execution_count": null,
   "id": "49586100",
   "metadata": {},
   "outputs": [],
   "source": []
  },
  {
   "cell_type": "code",
   "execution_count": null,
   "id": "1599ab6c",
   "metadata": {},
   "outputs": [],
   "source": []
  },
  {
   "cell_type": "code",
   "execution_count": null,
   "id": "d754d243",
   "metadata": {},
   "outputs": [],
   "source": []
  },
  {
   "cell_type": "code",
   "execution_count": null,
   "id": "dee2818b",
   "metadata": {},
   "outputs": [],
   "source": []
  },
  {
   "cell_type": "code",
   "execution_count": null,
   "id": "13c4a38d",
   "metadata": {},
   "outputs": [],
   "source": []
  },
  {
   "cell_type": "code",
   "execution_count": null,
   "id": "21a12c8a",
   "metadata": {},
   "outputs": [],
   "source": []
  }
 ],
 "metadata": {
  "kernelspec": {
   "display_name": "Python 3 (ipykernel)",
   "language": "python",
   "name": "python3"
  },
  "language_info": {
   "codemirror_mode": {
    "name": "ipython",
    "version": 3
   },
   "file_extension": ".py",
   "mimetype": "text/x-python",
   "name": "python",
   "nbconvert_exporter": "python",
   "pygments_lexer": "ipython3",
   "version": "3.8.13"
  }
 },
 "nbformat": 4,
 "nbformat_minor": 5
}
