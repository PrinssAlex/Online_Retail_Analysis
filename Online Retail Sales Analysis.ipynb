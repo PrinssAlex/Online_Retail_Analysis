{
 "cells": [
  {
   "cell_type": "markdown",
   "id": "4b61628d",
   "metadata": {},
   "source": [
    "<a id='top'></a>\n",
    "## Data Visualization: Discovering Trends and Patterns in an Online Retail Sales\n",
    "### By: P. A. Ogbodum\n",
    "\n",
    "<b> Contents Outline </b><br>\n",
    "- <a href = '#introduction'> Introduction </a>\n",
    "- <a href = '#data wrangling'> Data Wrangling </a>\n",
    "- <a href = '#eda'> Exploratory Data Analysis </a>\n",
    "- <a href = '#conclusion'> Conclusion </a>\n"
   ]
  },
  {
   "cell_type": "markdown",
   "id": "019681d0",
   "metadata": {},
   "source": [
    "<a id='introduction'></a>\n",
    "\n",
    "# Introduction\n",
    "\n",
    "**Data Set:** Online Retails Sale Dataset\n",
    "\n",
    "**Source:** [kaggle](https://www.kaggle.com/datasets/rohitmahulkar/online-retails-sale-dataset)\n",
    "\n",
    "**Description:** This data set was collected by an intern at Forage and contains information about online retail sales made by the Tata Group multinational conglomerate headquartered in Mumbai, India. It has 10 columns and 541,909 records for sales between 2010 and 2011.\n",
    "\n",
    "**Variables:** There are 10 variables contained in this data set as listed below: </br>\n",
    "- **InvoiceNo**: Unique ID to identify sale\n",
    "- **InvoiceDate**: The date the invoice was made \n",
    "- **InvoiceTime**: The time the invoice was made\n",
    "- **StockCode**: Code number for the item of purchase\n",
    "- **Description**: Description about the type of the product\n",
    "- **Quantity**: Quantity of the items purchased\n",
    "- **UnitPrice**: Price of a single unit of the item\n",
    "- **Totalsale**: Sum total of item purchased\n",
    "- **CustomerID**: Unique number of identification for each customer\n",
    "- **Country**: Country where the purchase was made\n",
    "\n",
    "**Credit:** *ROHIT MAHULKAR*\n",
    "\n",
    "**Analysis Question:** Best performing product in terms of sales between 2010-2011 and its characteristics.\n",
    "\n",
    "**<a href='#top'>Go to first cell</a>**\n"
   ]
  },
  {
   "cell_type": "code",
   "execution_count": 1,
   "id": "85353ce7",
   "metadata": {},
   "outputs": [],
   "source": [
    "# import needed modules\n",
    "import pandas as pd\n",
    "import numpy as np\n",
    "import seaborn as sb\n",
    "import matplotlib.pyplot as plt\n",
    "import mitosheet\n",
    "\n",
    "%matplotlib inline"
   ]
  },
  {
   "cell_type": "markdown",
   "id": "1947002c",
   "metadata": {},
   "source": [
    "<a id='data wrangling'></a>\n",
    "**<a href='#top'>Go to first cell</a>**\n",
    "    \n",
    "# Data Wrangling"
   ]
  },
  {
   "cell_type": "markdown",
   "id": "b72a9923",
   "metadata": {},
   "source": [
    "> ## Data Gathering"
   ]
  },
  {
   "cell_type": "code",
   "execution_count": 2,
   "id": "28100035",
   "metadata": {},
   "outputs": [
    {
     "data": {
      "text/html": [
       "<div><div id=1db217f3-7e4b-49b0-8730-a4bcb44e07a4 style=\"display:none; background-color:#9D6CFF; color:white; width:200px; height:30px; padding-left:5px; border-radius:4px; flex-direction:row; justify-content:space-around; align-items:center;\" onmouseover=\"this.style.backgroundColor='#BA9BF8'\" onmouseout=\"this.style.backgroundColor='#9D6CFF'\" onclick=\"window.commands?.execute('create-mitosheet-from-dataframe-output');\">See Full Dataframe in Mito</div> <script> if (window.commands?.hasCommand('create-mitosheet-from-dataframe-output')) document.getElementById('1db217f3-7e4b-49b0-8730-a4bcb44e07a4').style.display = 'flex' </script> <table border=\"1\" class=\"dataframe\">\n",
       "  <thead>\n",
       "    <tr style=\"text-align: right;\">\n",
       "      <th></th>\n",
       "      <th>InvoiceNo</th>\n",
       "      <th>InvoiceDate</th>\n",
       "      <th>InvoiceTime</th>\n",
       "      <th>StockCode</th>\n",
       "      <th>Description</th>\n",
       "      <th>Quantity</th>\n",
       "      <th>UnitPrice</th>\n",
       "      <th>Totalsale</th>\n",
       "      <th>CustomerID</th>\n",
       "      <th>Country</th>\n",
       "    </tr>\n",
       "  </thead>\n",
       "  <tbody>\n",
       "    <tr>\n",
       "      <th>344503</th>\n",
       "      <td>567076</td>\n",
       "      <td>16-09-2011</td>\n",
       "      <td>12:27:00 PM</td>\n",
       "      <td>35598B</td>\n",
       "      <td>BLACK CHRISTMAS TREE 60CM</td>\n",
       "      <td>72</td>\n",
       "      <td>0.65</td>\n",
       "      <td>46.80</td>\n",
       "      <td>15505.0</td>\n",
       "      <td>United Kingdom</td>\n",
       "    </tr>\n",
       "    <tr>\n",
       "      <th>260838</th>\n",
       "      <td>559816</td>\n",
       "      <td>12-07-2011</td>\n",
       "      <td>04:11:00 PM</td>\n",
       "      <td>23206</td>\n",
       "      <td>LUNCH BAG APPLE DESIGN</td>\n",
       "      <td>1</td>\n",
       "      <td>4.13</td>\n",
       "      <td>4.13</td>\n",
       "      <td>NaN</td>\n",
       "      <td>United Kingdom</td>\n",
       "    </tr>\n",
       "    <tr>\n",
       "      <th>140228</th>\n",
       "      <td>548388</td>\n",
       "      <td>30-03-2011</td>\n",
       "      <td>04:52:00 PM</td>\n",
       "      <td>23156</td>\n",
       "      <td>SET OF 5 MINI GROCERY MAGNETS</td>\n",
       "      <td>4</td>\n",
       "      <td>2.08</td>\n",
       "      <td>8.32</td>\n",
       "      <td>13268.0</td>\n",
       "      <td>United Kingdom</td>\n",
       "    </tr>\n",
       "    <tr>\n",
       "      <th>325913</th>\n",
       "      <td>565460</td>\n",
       "      <td>05-09-2011</td>\n",
       "      <td>09:24:00 AM</td>\n",
       "      <td>22324</td>\n",
       "      <td>BLUE POLKADOT KIDS BAG</td>\n",
       "      <td>48</td>\n",
       "      <td>1.65</td>\n",
       "      <td>79.20</td>\n",
       "      <td>16843.0</td>\n",
       "      <td>United Kingdom</td>\n",
       "    </tr>\n",
       "    <tr>\n",
       "      <th>454216</th>\n",
       "      <td>575516</td>\n",
       "      <td>10-11-2011</td>\n",
       "      <td>10:45:00 AM</td>\n",
       "      <td>21479</td>\n",
       "      <td>WHITE SKULL HOT WATER BOTTLE</td>\n",
       "      <td>4</td>\n",
       "      <td>4.25</td>\n",
       "      <td>17.00</td>\n",
       "      <td>17340.0</td>\n",
       "      <td>United Kingdom</td>\n",
       "    </tr>\n",
       "  </tbody>\n",
       "</table></div>"
      ],
      "text/plain": [
       "       InvoiceNo InvoiceDate  InvoiceTime StockCode  \\\n",
       "344503    567076  16-09-2011  12:27:00 PM    35598B   \n",
       "260838    559816  12-07-2011  04:11:00 PM     23206   \n",
       "140228    548388  30-03-2011  04:52:00 PM     23156   \n",
       "325913    565460  05-09-2011  09:24:00 AM     22324   \n",
       "454216    575516  10-11-2011  10:45:00 AM     21479   \n",
       "\n",
       "                          Description  Quantity  UnitPrice  Totalsale  \\\n",
       "344503      BLACK CHRISTMAS TREE 60CM        72       0.65      46.80   \n",
       "260838         LUNCH BAG APPLE DESIGN         1       4.13       4.13   \n",
       "140228  SET OF 5 MINI GROCERY MAGNETS         4       2.08       8.32   \n",
       "325913         BLUE POLKADOT KIDS BAG        48       1.65      79.20   \n",
       "454216  WHITE SKULL HOT WATER BOTTLE          4       4.25      17.00   \n",
       "\n",
       "        CustomerID         Country  \n",
       "344503     15505.0  United Kingdom  \n",
       "260838         NaN  United Kingdom  \n",
       "140228     13268.0  United Kingdom  \n",
       "325913     16843.0  United Kingdom  \n",
       "454216     17340.0  United Kingdom  "
      ]
     },
     "execution_count": 2,
     "metadata": {},
     "output_type": "execute_result"
    }
   ],
   "source": [
    "# read flat file into jupyter\n",
    "df = pd.read_csv('Online Retail.csv')\n",
    "\n",
    "# check if operation was successful\n",
    "df.sample(n=5)"
   ]
  },
  {
   "cell_type": "markdown",
   "id": "a4ecf40e",
   "metadata": {},
   "source": [
    "> ## Data Assessment\n",
    ">> ### Visual Assessment"
   ]
  },
  {
   "cell_type": "code",
   "execution_count": 3,
   "id": "13dad38f",
   "metadata": {},
   "outputs": [
    {
     "data": {
      "application/vnd.jupyter.widget-view+json": {
       "model_id": "587e48f9dd3b4206b879e1e9b131dee7",
       "version_major": 2,
       "version_minor": 0
      },
      "text/plain": [
       "MitoWidget(analysis_data_json='{\"analysisName\": \"id-ywyefybwwh\", \"analysisToReplay\": {\"analysisName\": \"id-azmj…"
      ]
     },
     "metadata": {},
     "output_type": "display_data"
    },
    {
     "name": "stderr",
     "output_type": "stream",
     "text": [
      "error uploading: HTTPSConnectionPool(host='api.segment.io', port=443): Max retries exceeded with url: /v1/batch (Caused by NewConnectionError('<urllib3.connection.HTTPSConnection object at 0x000002A03928E8B0>: Failed to establish a new connection: [Errno 11001] getaddrinfo failed'))\n"
     ]
    }
   ],
   "source": [
    "# use the mitosheet to carry out visual assessment\n",
    "mitosheet.sheet(analysis_to_replay=\"id-ywyefybwwh\")"
   ]
  },
  {
   "cell_type": "code",
   "execution_count": null,
   "id": "8ede14ff",
   "metadata": {},
   "outputs": [],
   "source": [
    "from mitosheet import *; register_analysis(\"id-ywyefybwwh\");\n",
    "    \n",
    "# Imported Online Retail.csv\n",
    "import pandas as pd\n",
    "Online_Retail = pd.read_csv(r'Online Retail.csv')\n",
    "\n",
    "# Reordered column Quantity\n",
    "Online_Retail_columns = [col for col in Online_Retail.columns if col != 'Quantity']\n",
    "Online_Retail_columns.insert(6, 'Quantity')\n",
    "Online_Retail = Online_Retail[Online_Retail_columns]\n",
    "\n",
    "# Reordered column Description\n",
    "Online_Retail_columns = [col for col in Online_Retail.columns if col != 'Description']\n",
    "Online_Retail_columns.insert(3, 'Description')\n",
    "Online_Retail = Online_Retail[Online_Retail_columns]\n"
   ]
  },
  {
   "cell_type": "code",
   "execution_count": 20,
   "id": "7cee3737",
   "metadata": {},
   "outputs": [],
   "source": [
    "from mitosheet import *; register_analysis(\"id-azmjrmwwda\");\n",
    "    \n",
    "# Imported Online Retail.csv\n",
    "import pandas as pd\n",
    "Online_Retail = pd.read_csv(r'Online Retail.csv')\n",
    "\n",
    "# Pivoted into Online_Retail\n",
    "Online_Retail_pivot = pd.DataFrame(data={})\n",
    "\n",
    "# Deleted Online_Retail_pivot\n",
    "del Online_Retail_pivot\n",
    "\n",
    "# Imported Marriage_Divorce_DB.csv\n",
    "import pandas as pd\n",
    "Marriage_Divorce_DB = pd.read_csv(r'Marriage_Divorce_DB.csv')\n",
    "\n",
    "# Deleted Marriage_Divorce_DB\n",
    "del Marriage_Divorce_DB\n",
    "\n",
    "# Imported twitter-archive-enhanced.csv\n",
    "import pandas as pd\n",
    "twitter_archive_enhanced = pd.read_csv(r'twitter-archive-enhanced.csv')\n",
    "\n",
    "# Deleted twitter_archive_enhanced\n",
    "del twitter_archive_enhanced\n"
   ]
  },
  {
   "cell_type": "markdown",
   "id": "f446b081",
   "metadata": {},
   "source": [
    "<b>Notes :</b>\n",
    "- Unideal data type for InvoiceDate, InvoiceTime columns.\n",
    "- Inconsistent formatting for InvoiceDate records.\n",
    "- Irrational values (-tve) values for Quantity and TotalSale columns.\n",
    "- Discrepancies in InvoiceNo values (some alphaNumeric), seem to denote Quantity and TotalSale rows with negative values."
   ]
  },
  {
   "cell_type": "markdown",
   "id": "ed76e6de",
   "metadata": {},
   "source": [
    ">> ### Programmatic Assessment"
   ]
  },
  {
   "cell_type": "code",
   "execution_count": 4,
   "id": "666db784",
   "metadata": {},
   "outputs": [
    {
     "name": "stdout",
     "output_type": "stream",
     "text": [
      "<class 'pandas.core.frame.DataFrame'>\n",
      "RangeIndex: 541909 entries, 0 to 541908\n",
      "Data columns (total 10 columns):\n",
      " #   Column       Non-Null Count   Dtype  \n",
      "---  ------       --------------   -----  \n",
      " 0   InvoiceNo    541909 non-null  object \n",
      " 1   InvoiceDate  541909 non-null  object \n",
      " 2   InvoiceTime  541909 non-null  object \n",
      " 3   StockCode    541909 non-null  object \n",
      " 4   Description  540455 non-null  object \n",
      " 5   Quantity     541909 non-null  int64  \n",
      " 6   UnitPrice    541909 non-null  float64\n",
      " 7   Totalsale    541909 non-null  float64\n",
      " 8   CustomerID   406829 non-null  float64\n",
      " 9   Country      541909 non-null  object \n",
      "dtypes: float64(3), int64(1), object(6)\n",
      "memory usage: 41.3+ MB\n"
     ]
    },
    {
     "name": "stderr",
     "output_type": "stream",
     "text": [
      "error uploading: HTTPSConnectionPool(host='api.segment.io', port=443): Max retries exceeded with url: /v1/batch (Caused by NewConnectionError('<urllib3.connection.HTTPSConnection object at 0x000002A03928E970>: Failed to establish a new connection: [Errno 11001] getaddrinfo failed'))\n"
     ]
    }
   ],
   "source": [
    "# dataframe overview\n",
    "df.info()"
   ]
  },
  {
   "cell_type": "markdown",
   "id": "13203a54",
   "metadata": {},
   "source": [
    "<b>Notes:</b>\n",
    "- Missing values in Description and CustomerID columns.\n",
    "- CustomerID should be string/object data type not float64.\n"
   ]
  },
  {
   "cell_type": "code",
   "execution_count": null,
   "id": "8ab0805f",
   "metadata": {},
   "outputs": [],
   "source": []
  },
  {
   "cell_type": "markdown",
   "id": "e284100f",
   "metadata": {},
   "source": [
    "> ## Data Cleaning"
   ]
  },
  {
   "cell_type": "code",
   "execution_count": null,
   "id": "f9baa3d3",
   "metadata": {},
   "outputs": [],
   "source": []
  },
  {
   "cell_type": "markdown",
   "id": "5b2cedc4",
   "metadata": {},
   "source": [
    "<a id='eda'></a>\n",
    "**<a href='#top'>Go to first cell</a>**\n",
    "    \n",
    "# Exploratory Data Analysis"
   ]
  },
  {
   "cell_type": "code",
   "execution_count": null,
   "id": "23ce5dba",
   "metadata": {},
   "outputs": [],
   "source": []
  },
  {
   "cell_type": "code",
   "execution_count": null,
   "id": "26162c01",
   "metadata": {},
   "outputs": [],
   "source": []
  },
  {
   "cell_type": "markdown",
   "id": "65628055",
   "metadata": {},
   "source": [
    "<a id='conclusion'></a>\n",
    "**<a href='#top'>Go to first cell</a>**\n",
    "    \n",
    "# Conclusion"
   ]
  },
  {
   "cell_type": "code",
   "execution_count": null,
   "id": "c3b95324",
   "metadata": {},
   "outputs": [],
   "source": []
  },
  {
   "cell_type": "code",
   "execution_count": null,
   "id": "f07029d2",
   "metadata": {},
   "outputs": [],
   "source": []
  },
  {
   "cell_type": "code",
   "execution_count": null,
   "id": "018ab8da",
   "metadata": {},
   "outputs": [],
   "source": []
  },
  {
   "cell_type": "code",
   "execution_count": null,
   "id": "4f8fe64b",
   "metadata": {},
   "outputs": [],
   "source": []
  },
  {
   "cell_type": "code",
   "execution_count": null,
   "id": "49586100",
   "metadata": {},
   "outputs": [],
   "source": []
  },
  {
   "cell_type": "code",
   "execution_count": null,
   "id": "1599ab6c",
   "metadata": {},
   "outputs": [],
   "source": []
  },
  {
   "cell_type": "code",
   "execution_count": null,
   "id": "d754d243",
   "metadata": {},
   "outputs": [],
   "source": []
  },
  {
   "cell_type": "code",
   "execution_count": null,
   "id": "dee2818b",
   "metadata": {},
   "outputs": [],
   "source": []
  },
  {
   "cell_type": "code",
   "execution_count": null,
   "id": "13c4a38d",
   "metadata": {},
   "outputs": [],
   "source": []
  },
  {
   "cell_type": "code",
   "execution_count": null,
   "id": "21a12c8a",
   "metadata": {},
   "outputs": [],
   "source": []
  }
 ],
 "metadata": {
  "kernelspec": {
   "display_name": "Python 3 (ipykernel)",
   "language": "python",
   "name": "python3"
  },
  "language_info": {
   "codemirror_mode": {
    "name": "ipython",
    "version": 3
   },
   "file_extension": ".py",
   "mimetype": "text/x-python",
   "name": "python",
   "nbconvert_exporter": "python",
   "pygments_lexer": "ipython3",
   "version": "3.8.13"
  }
 },
 "nbformat": 4,
 "nbformat_minor": 5
}
